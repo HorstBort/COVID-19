{
 "cells": [
  {
   "cell_type": "markdown",
   "metadata": {},
   "source": [
    "## COVID-19 Data Explorer\n",
    "\n",
    "Fetches current data from https://github.com/CSSEGISandData/COVID-19 (Johns Hopkins University, updated daily).\n",
    "\n",
    "Fits exponential function and plots current data and projection.\n",
    "\n",
    "Explore by selecting country and weeks for projection.\n",
    "\n",
    "**Experimental**:\n",
    "\n",
    " * Select `gaussfit` to fit Gaussian to data (very rough estimate, since we are just at the beginning of the curve :-/)\n",
    " * Select `plot_initial` to plot initial guess for gaussian fit."
   ]
  },
  {
   "cell_type": "code",
   "execution_count": 48,
   "metadata": {},
   "outputs": [
    {
     "data": {
      "application/vnd.jupyter.widget-view+json": {
       "model_id": "c44af5e19a2b4e7e96f669b966efe67e",
       "version_major": 2,
       "version_minor": 0
      },
      "text/plain": [
       "Canvas(toolbar=Toolbar(toolitems=[('Home', 'Reset original view', 'home', 'home'), ('Back', 'Back to previous …"
      ]
     },
     "metadata": {},
     "output_type": "display_data"
    },
    {
     "data": {
      "application/vnd.jupyter.widget-view+json": {
       "model_id": "fd1e03e4eedb414391397da0e858818f",
       "version_major": 2,
       "version_minor": 0
      },
      "text/plain": [
       "interactive(children=(Dropdown(description='country', options=('Germany', 'US', 'Italy', 'China', 'Afghanistan…"
      ]
     },
     "metadata": {},
     "output_type": "display_data"
    },
    {
     "data": {
      "text/plain": [
       "<function ipywidgets.widgets.interaction._InteractFactory.__call__.<locals>.<lambda>(*args, **kwargs)>"
      ]
     },
     "execution_count": 48,
     "metadata": {},
     "output_type": "execute_result"
    }
   ],
   "source": [
    "%reload_ext autoreload\n",
    "%autoreload 2\n",
    "%matplotlib widget\n",
    "\n",
    "from ipywidgets import interact, IntSlider\n",
    "\n",
    "from helpers import CovidPlot\n",
    "\n",
    "d = CovidPlot()\n",
    "\n",
    "week_slider = IntSlider(value=1, min=0, max=124, step=1, continuous_update=True)\n",
    "interact(d.plot_country,\n",
    "         country=d.countries,\n",
    "         future_weeks=week_slider)"
   ]
  }
 ],
 "metadata": {
  "kernelspec": {
   "display_name": "Python 3",
   "language": "python",
   "name": "python3"
  },
  "language_info": {
   "codemirror_mode": {
    "name": "ipython",
    "version": 3
   },
   "file_extension": ".py",
   "mimetype": "text/x-python",
   "name": "python",
   "nbconvert_exporter": "python",
   "pygments_lexer": "ipython3",
   "version": "3.7.5"
  }
 },
 "nbformat": 4,
 "nbformat_minor": 4
}
