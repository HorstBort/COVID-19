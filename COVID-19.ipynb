{
 "cells": [
  {
   "cell_type": "markdown",
   "metadata": {},
   "source": [
    "## COVID-19 Data Explorer\n",
    "\n",
    "Fetches current data from https://github.com/CSSEGISandData/COVID-19 (Johns Hopkins University, updated daily).\n",
    "\n",
    "Fits exponential function and plots current data and projection.\n",
    "\n",
    "Explore by selecting country and weeks for projection.\n",
    "\n",
    "**HOWTO**\n",
    "\n",
    "Select next cell and click `run` above or press `Shift+Enter`.\n",
    "\n",
    "**Experimental**:\n",
    "\n",
    " * Select `gaussfit` to fit Gaussian to data (very rough estimate, since we are just at the beginning of the curve :-/)\n",
    " * Select `plot_initial` to plot initial guess for gaussian fit."
   ]
  },
  {
   "cell_type": "code",
   "execution_count": 110,
   "metadata": {},
   "outputs": [
    {
     "data": {
      "application/vnd.jupyter.widget-view+json": {
       "model_id": "18576482766d4651bafa0a058057a63e",
       "version_major": 2,
       "version_minor": 0
      },
      "text/plain": [
       "Canvas(toolbar=Toolbar(toolitems=[('Home', 'Reset original view', 'home', 'home'), ('Back', 'Back to previous …"
      ]
     },
     "metadata": {},
     "output_type": "display_data"
    },
    {
     "data": {
      "application/vnd.jupyter.widget-view+json": {
       "model_id": "589611370521496fb5eb4e18566d3a0c",
       "version_major": 2,
       "version_minor": 0
      },
      "text/plain": [
       "HBox(children=(Dropdown(description='Country', options=('Germany', 'US', 'Italy', 'China', 'Afghanistan', 'Alb…"
      ]
     },
     "metadata": {},
     "output_type": "display_data"
    },
    {
     "data": {
      "application/vnd.jupyter.widget-view+json": {
       "model_id": "d33e850d69794d33b7f7dcb9ba9113a6",
       "version_major": 2,
       "version_minor": 0
      },
      "text/plain": [
       "Output()"
      ]
     },
     "metadata": {},
     "output_type": "display_data"
    }
   ],
   "source": [
    "%reload_ext autoreload\n",
    "%autoreload 2\n",
    "%matplotlib widget\n",
    "\n",
    "from ipywidgets import interact, IntSlider, Dropdown, Checkbox, interactive_output, HBox\n",
    "\n",
    "from helpers import CovidPlot\n",
    "\n",
    "d = CovidPlot()\n",
    "\n",
    "#week_slider = IntSlider(value=1, min=0, max=124, step=1, continuous_update=True)\n",
    "\n",
    "c = Dropdown(options=d.countries, description='Country')\n",
    "cb_tot = Checkbox(value=False, description='Log Scale total numbers')\n",
    "cb_new = Checkbox(value=False, description='Log Scale new cases')\n",
    "ui = HBox([c, cb_tot, cb_new])\n",
    "\n",
    "out = interactive_output(d.plot_country, {'country': c, 'log_tot': cb_tot, 'log_new': cb_new})\n",
    "\n",
    "display(ui, out)\n",
    "\n",
    "#interact(d.plot_country,\n",
    "#         country=d.countries,\n",
    "#         log_tot=False,\n",
    "#         log_new=False)"
   ]
  }
 ],
 "metadata": {
  "kernelspec": {
   "display_name": "Python 3",
   "language": "python",
   "name": "python3"
  },
  "language_info": {
   "codemirror_mode": {
    "name": "ipython",
    "version": 3
   },
   "file_extension": ".py",
   "mimetype": "text/x-python",
   "name": "python",
   "nbconvert_exporter": "python",
   "pygments_lexer": "ipython3",
   "version": "3.7.5"
  }
 },
 "nbformat": 4,
 "nbformat_minor": 4
}
